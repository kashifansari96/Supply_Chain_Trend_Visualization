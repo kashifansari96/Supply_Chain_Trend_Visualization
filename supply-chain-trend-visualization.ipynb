{
 "cells": [
  {
   "cell_type": "markdown",
   "id": "1a2751c0",
   "metadata": {},
   "source": [
    "<h1 style='color:green' align='center'> Supply Chain Trend Visualisation</h1>"
   ]
  },
  {
   "cell_type": "markdown",
   "id": "fdc6cee0",
   "metadata": {},
   "source": [
    "Dataset is downloaded from here: https://www.kaggle.com/datasets/harshsingh2209/supply-chain-analysis/data"
   ]
  },
  {
   "cell_type": "code",
   "execution_count": 1,
   "id": "d1b71f8c",
   "metadata": {
    "_cell_guid": "b1076dfc-b9ad-4769-8c92-a6c4dae69d19",
    "_uuid": "8f2839f25d086af736a60e9eeb907d3b93b6e0e5",
    "execution": {
     "iopub.execute_input": "2024-01-04T03:27:16.612515Z",
     "iopub.status.busy": "2024-01-04T03:27:16.611748Z",
     "iopub.status.idle": "2024-01-04T03:27:17.124740Z",
     "shell.execute_reply": "2024-01-04T03:27:17.123538Z"
    },
    "papermill": {
     "duration": 0.528189,
     "end_time": "2024-01-04T03:27:17.127572",
     "exception": false,
     "start_time": "2024-01-04T03:27:16.599383",
     "status": "completed"
    },
    "tags": []
   },
   "outputs": [],
   "source": [
    "import numpy as np # linear algebra\n",
    "import pandas as pd # data processing, CSV file I/O (e.g. pd.read_csv)\n",
    "\n",
    "# Input data files are available in the read-only \"../input/\" directory\n",
    "# For example, running this (by clicking run or pressing Shift+Enter) will list all files under the input directory\n",
    "\n",
    "import os\n",
    "for dirname, _, filenames in os.walk('/kaggle/input'):\n",
    "    for filename in filenames:\n",
    "        print(os.path.join(dirname, filename))\n",
    "\n",
    "# You can write up to 20GB to the current directory (/kaggle/working/) that gets preserved as output when you create a version using \"Save & Run All\" \n",
    "# You can also write temporary files to /kaggle/temp/, but they won't be saved outside of the current session"
   ]
  },
  {
   "cell_type": "code",
   "execution_count": 2,
   "id": "2c667a4c",
   "metadata": {
    "execution": {
     "iopub.execute_input": "2024-01-04T03:27:17.150848Z",
     "iopub.status.busy": "2024-01-04T03:27:17.150204Z",
     "iopub.status.idle": "2024-01-04T03:27:18.578462Z",
     "shell.execute_reply": "2024-01-04T03:27:18.577393Z"
    },
    "papermill": {
     "duration": 1.443414,
     "end_time": "2024-01-04T03:27:18.581453",
     "exception": false,
     "start_time": "2024-01-04T03:27:17.138039",
     "status": "completed"
    },
    "tags": []
   },
   "outputs": [],
   "source": [
    "import matplotlib.pyplot as plt\n",
    "\n",
    "import seaborn as sns\n",
    "pd.set_option('display.max_columns', None)"
   ]
  },
  {
   "cell_type": "code",
   "execution_count": 3,
   "id": "cac8dea6",
   "metadata": {
    "execution": {
     "iopub.execute_input": "2024-01-04T03:27:18.603324Z",
     "iopub.status.busy": "2024-01-04T03:27:18.602701Z",
     "iopub.status.idle": "2024-01-04T03:27:18.625567Z",
     "shell.execute_reply": "2024-01-04T03:27:18.624704Z"
    },
    "papermill": {
     "duration": 0.037037,
     "end_time": "2024-01-04T03:27:18.628584",
     "exception": false,
     "start_time": "2024-01-04T03:27:18.591547",
     "status": "completed"
    },
    "tags": []
   },
   "outputs": [
    {
     "ename": "FileNotFoundError",
     "evalue": "[Errno 2] No such file or directory: '/kaggle/input/supply-chain-analysis/supply_chain_data.csv'",
     "output_type": "error",
     "traceback": [
      "\u001b[1;31m---------------------------------------------------------------------------\u001b[0m",
      "\u001b[1;31mFileNotFoundError\u001b[0m                         Traceback (most recent call last)",
      "Cell \u001b[1;32mIn[3], line 1\u001b[0m\n\u001b[1;32m----> 1\u001b[0m df \u001b[38;5;241m=\u001b[39m \u001b[43mpd\u001b[49m\u001b[38;5;241;43m.\u001b[39;49m\u001b[43mread_csv\u001b[49m\u001b[43m(\u001b[49m\u001b[38;5;124;43m\"\u001b[39;49m\u001b[38;5;124;43m/kaggle/input/supply-chain-analysis/supply_chain_data.csv\u001b[39;49m\u001b[38;5;124;43m\"\u001b[39;49m\u001b[43m)\u001b[49m\n",
      "File \u001b[1;32m~\\AppData\\Local\\Packages\\PythonSoftwareFoundation.Python.3.11_qbz5n2kfra8p0\\LocalCache\\local-packages\\Python311\\site-packages\\pandas\\io\\parsers\\readers.py:1026\u001b[0m, in \u001b[0;36mread_csv\u001b[1;34m(filepath_or_buffer, sep, delimiter, header, names, index_col, usecols, dtype, engine, converters, true_values, false_values, skipinitialspace, skiprows, skipfooter, nrows, na_values, keep_default_na, na_filter, verbose, skip_blank_lines, parse_dates, infer_datetime_format, keep_date_col, date_parser, date_format, dayfirst, cache_dates, iterator, chunksize, compression, thousands, decimal, lineterminator, quotechar, quoting, doublequote, escapechar, comment, encoding, encoding_errors, dialect, on_bad_lines, delim_whitespace, low_memory, memory_map, float_precision, storage_options, dtype_backend)\u001b[0m\n\u001b[0;32m   1013\u001b[0m kwds_defaults \u001b[38;5;241m=\u001b[39m _refine_defaults_read(\n\u001b[0;32m   1014\u001b[0m     dialect,\n\u001b[0;32m   1015\u001b[0m     delimiter,\n\u001b[1;32m   (...)\u001b[0m\n\u001b[0;32m   1022\u001b[0m     dtype_backend\u001b[38;5;241m=\u001b[39mdtype_backend,\n\u001b[0;32m   1023\u001b[0m )\n\u001b[0;32m   1024\u001b[0m kwds\u001b[38;5;241m.\u001b[39mupdate(kwds_defaults)\n\u001b[1;32m-> 1026\u001b[0m \u001b[38;5;28;01mreturn\u001b[39;00m \u001b[43m_read\u001b[49m\u001b[43m(\u001b[49m\u001b[43mfilepath_or_buffer\u001b[49m\u001b[43m,\u001b[49m\u001b[43m \u001b[49m\u001b[43mkwds\u001b[49m\u001b[43m)\u001b[49m\n",
      "File \u001b[1;32m~\\AppData\\Local\\Packages\\PythonSoftwareFoundation.Python.3.11_qbz5n2kfra8p0\\LocalCache\\local-packages\\Python311\\site-packages\\pandas\\io\\parsers\\readers.py:620\u001b[0m, in \u001b[0;36m_read\u001b[1;34m(filepath_or_buffer, kwds)\u001b[0m\n\u001b[0;32m    617\u001b[0m _validate_names(kwds\u001b[38;5;241m.\u001b[39mget(\u001b[38;5;124m\"\u001b[39m\u001b[38;5;124mnames\u001b[39m\u001b[38;5;124m\"\u001b[39m, \u001b[38;5;28;01mNone\u001b[39;00m))\n\u001b[0;32m    619\u001b[0m \u001b[38;5;66;03m# Create the parser.\u001b[39;00m\n\u001b[1;32m--> 620\u001b[0m parser \u001b[38;5;241m=\u001b[39m \u001b[43mTextFileReader\u001b[49m\u001b[43m(\u001b[49m\u001b[43mfilepath_or_buffer\u001b[49m\u001b[43m,\u001b[49m\u001b[43m \u001b[49m\u001b[38;5;241;43m*\u001b[39;49m\u001b[38;5;241;43m*\u001b[39;49m\u001b[43mkwds\u001b[49m\u001b[43m)\u001b[49m\n\u001b[0;32m    622\u001b[0m \u001b[38;5;28;01mif\u001b[39;00m chunksize \u001b[38;5;129;01mor\u001b[39;00m iterator:\n\u001b[0;32m    623\u001b[0m     \u001b[38;5;28;01mreturn\u001b[39;00m parser\n",
      "File \u001b[1;32m~\\AppData\\Local\\Packages\\PythonSoftwareFoundation.Python.3.11_qbz5n2kfra8p0\\LocalCache\\local-packages\\Python311\\site-packages\\pandas\\io\\parsers\\readers.py:1620\u001b[0m, in \u001b[0;36mTextFileReader.__init__\u001b[1;34m(self, f, engine, **kwds)\u001b[0m\n\u001b[0;32m   1617\u001b[0m     \u001b[38;5;28mself\u001b[39m\u001b[38;5;241m.\u001b[39moptions[\u001b[38;5;124m\"\u001b[39m\u001b[38;5;124mhas_index_names\u001b[39m\u001b[38;5;124m\"\u001b[39m] \u001b[38;5;241m=\u001b[39m kwds[\u001b[38;5;124m\"\u001b[39m\u001b[38;5;124mhas_index_names\u001b[39m\u001b[38;5;124m\"\u001b[39m]\n\u001b[0;32m   1619\u001b[0m \u001b[38;5;28mself\u001b[39m\u001b[38;5;241m.\u001b[39mhandles: IOHandles \u001b[38;5;241m|\u001b[39m \u001b[38;5;28;01mNone\u001b[39;00m \u001b[38;5;241m=\u001b[39m \u001b[38;5;28;01mNone\u001b[39;00m\n\u001b[1;32m-> 1620\u001b[0m \u001b[38;5;28mself\u001b[39m\u001b[38;5;241m.\u001b[39m_engine \u001b[38;5;241m=\u001b[39m \u001b[38;5;28;43mself\u001b[39;49m\u001b[38;5;241;43m.\u001b[39;49m\u001b[43m_make_engine\u001b[49m\u001b[43m(\u001b[49m\u001b[43mf\u001b[49m\u001b[43m,\u001b[49m\u001b[43m \u001b[49m\u001b[38;5;28;43mself\u001b[39;49m\u001b[38;5;241;43m.\u001b[39;49m\u001b[43mengine\u001b[49m\u001b[43m)\u001b[49m\n",
      "File \u001b[1;32m~\\AppData\\Local\\Packages\\PythonSoftwareFoundation.Python.3.11_qbz5n2kfra8p0\\LocalCache\\local-packages\\Python311\\site-packages\\pandas\\io\\parsers\\readers.py:1880\u001b[0m, in \u001b[0;36mTextFileReader._make_engine\u001b[1;34m(self, f, engine)\u001b[0m\n\u001b[0;32m   1878\u001b[0m     \u001b[38;5;28;01mif\u001b[39;00m \u001b[38;5;124m\"\u001b[39m\u001b[38;5;124mb\u001b[39m\u001b[38;5;124m\"\u001b[39m \u001b[38;5;129;01mnot\u001b[39;00m \u001b[38;5;129;01min\u001b[39;00m mode:\n\u001b[0;32m   1879\u001b[0m         mode \u001b[38;5;241m+\u001b[39m\u001b[38;5;241m=\u001b[39m \u001b[38;5;124m\"\u001b[39m\u001b[38;5;124mb\u001b[39m\u001b[38;5;124m\"\u001b[39m\n\u001b[1;32m-> 1880\u001b[0m \u001b[38;5;28mself\u001b[39m\u001b[38;5;241m.\u001b[39mhandles \u001b[38;5;241m=\u001b[39m \u001b[43mget_handle\u001b[49m\u001b[43m(\u001b[49m\n\u001b[0;32m   1881\u001b[0m \u001b[43m    \u001b[49m\u001b[43mf\u001b[49m\u001b[43m,\u001b[49m\n\u001b[0;32m   1882\u001b[0m \u001b[43m    \u001b[49m\u001b[43mmode\u001b[49m\u001b[43m,\u001b[49m\n\u001b[0;32m   1883\u001b[0m \u001b[43m    \u001b[49m\u001b[43mencoding\u001b[49m\u001b[38;5;241;43m=\u001b[39;49m\u001b[38;5;28;43mself\u001b[39;49m\u001b[38;5;241;43m.\u001b[39;49m\u001b[43moptions\u001b[49m\u001b[38;5;241;43m.\u001b[39;49m\u001b[43mget\u001b[49m\u001b[43m(\u001b[49m\u001b[38;5;124;43m\"\u001b[39;49m\u001b[38;5;124;43mencoding\u001b[39;49m\u001b[38;5;124;43m\"\u001b[39;49m\u001b[43m,\u001b[49m\u001b[43m \u001b[49m\u001b[38;5;28;43;01mNone\u001b[39;49;00m\u001b[43m)\u001b[49m\u001b[43m,\u001b[49m\n\u001b[0;32m   1884\u001b[0m \u001b[43m    \u001b[49m\u001b[43mcompression\u001b[49m\u001b[38;5;241;43m=\u001b[39;49m\u001b[38;5;28;43mself\u001b[39;49m\u001b[38;5;241;43m.\u001b[39;49m\u001b[43moptions\u001b[49m\u001b[38;5;241;43m.\u001b[39;49m\u001b[43mget\u001b[49m\u001b[43m(\u001b[49m\u001b[38;5;124;43m\"\u001b[39;49m\u001b[38;5;124;43mcompression\u001b[39;49m\u001b[38;5;124;43m\"\u001b[39;49m\u001b[43m,\u001b[49m\u001b[43m \u001b[49m\u001b[38;5;28;43;01mNone\u001b[39;49;00m\u001b[43m)\u001b[49m\u001b[43m,\u001b[49m\n\u001b[0;32m   1885\u001b[0m \u001b[43m    \u001b[49m\u001b[43mmemory_map\u001b[49m\u001b[38;5;241;43m=\u001b[39;49m\u001b[38;5;28;43mself\u001b[39;49m\u001b[38;5;241;43m.\u001b[39;49m\u001b[43moptions\u001b[49m\u001b[38;5;241;43m.\u001b[39;49m\u001b[43mget\u001b[49m\u001b[43m(\u001b[49m\u001b[38;5;124;43m\"\u001b[39;49m\u001b[38;5;124;43mmemory_map\u001b[39;49m\u001b[38;5;124;43m\"\u001b[39;49m\u001b[43m,\u001b[49m\u001b[43m \u001b[49m\u001b[38;5;28;43;01mFalse\u001b[39;49;00m\u001b[43m)\u001b[49m\u001b[43m,\u001b[49m\n\u001b[0;32m   1886\u001b[0m \u001b[43m    \u001b[49m\u001b[43mis_text\u001b[49m\u001b[38;5;241;43m=\u001b[39;49m\u001b[43mis_text\u001b[49m\u001b[43m,\u001b[49m\n\u001b[0;32m   1887\u001b[0m \u001b[43m    \u001b[49m\u001b[43merrors\u001b[49m\u001b[38;5;241;43m=\u001b[39;49m\u001b[38;5;28;43mself\u001b[39;49m\u001b[38;5;241;43m.\u001b[39;49m\u001b[43moptions\u001b[49m\u001b[38;5;241;43m.\u001b[39;49m\u001b[43mget\u001b[49m\u001b[43m(\u001b[49m\u001b[38;5;124;43m\"\u001b[39;49m\u001b[38;5;124;43mencoding_errors\u001b[39;49m\u001b[38;5;124;43m\"\u001b[39;49m\u001b[43m,\u001b[49m\u001b[43m \u001b[49m\u001b[38;5;124;43m\"\u001b[39;49m\u001b[38;5;124;43mstrict\u001b[39;49m\u001b[38;5;124;43m\"\u001b[39;49m\u001b[43m)\u001b[49m\u001b[43m,\u001b[49m\n\u001b[0;32m   1888\u001b[0m \u001b[43m    \u001b[49m\u001b[43mstorage_options\u001b[49m\u001b[38;5;241;43m=\u001b[39;49m\u001b[38;5;28;43mself\u001b[39;49m\u001b[38;5;241;43m.\u001b[39;49m\u001b[43moptions\u001b[49m\u001b[38;5;241;43m.\u001b[39;49m\u001b[43mget\u001b[49m\u001b[43m(\u001b[49m\u001b[38;5;124;43m\"\u001b[39;49m\u001b[38;5;124;43mstorage_options\u001b[39;49m\u001b[38;5;124;43m\"\u001b[39;49m\u001b[43m,\u001b[49m\u001b[43m \u001b[49m\u001b[38;5;28;43;01mNone\u001b[39;49;00m\u001b[43m)\u001b[49m\u001b[43m,\u001b[49m\n\u001b[0;32m   1889\u001b[0m \u001b[43m\u001b[49m\u001b[43m)\u001b[49m\n\u001b[0;32m   1890\u001b[0m \u001b[38;5;28;01massert\u001b[39;00m \u001b[38;5;28mself\u001b[39m\u001b[38;5;241m.\u001b[39mhandles \u001b[38;5;129;01mis\u001b[39;00m \u001b[38;5;129;01mnot\u001b[39;00m \u001b[38;5;28;01mNone\u001b[39;00m\n\u001b[0;32m   1891\u001b[0m f \u001b[38;5;241m=\u001b[39m \u001b[38;5;28mself\u001b[39m\u001b[38;5;241m.\u001b[39mhandles\u001b[38;5;241m.\u001b[39mhandle\n",
      "File \u001b[1;32m~\\AppData\\Local\\Packages\\PythonSoftwareFoundation.Python.3.11_qbz5n2kfra8p0\\LocalCache\\local-packages\\Python311\\site-packages\\pandas\\io\\common.py:873\u001b[0m, in \u001b[0;36mget_handle\u001b[1;34m(path_or_buf, mode, encoding, compression, memory_map, is_text, errors, storage_options)\u001b[0m\n\u001b[0;32m    868\u001b[0m \u001b[38;5;28;01melif\u001b[39;00m \u001b[38;5;28misinstance\u001b[39m(handle, \u001b[38;5;28mstr\u001b[39m):\n\u001b[0;32m    869\u001b[0m     \u001b[38;5;66;03m# Check whether the filename is to be opened in binary mode.\u001b[39;00m\n\u001b[0;32m    870\u001b[0m     \u001b[38;5;66;03m# Binary mode does not support 'encoding' and 'newline'.\u001b[39;00m\n\u001b[0;32m    871\u001b[0m     \u001b[38;5;28;01mif\u001b[39;00m ioargs\u001b[38;5;241m.\u001b[39mencoding \u001b[38;5;129;01mand\u001b[39;00m \u001b[38;5;124m\"\u001b[39m\u001b[38;5;124mb\u001b[39m\u001b[38;5;124m\"\u001b[39m \u001b[38;5;129;01mnot\u001b[39;00m \u001b[38;5;129;01min\u001b[39;00m ioargs\u001b[38;5;241m.\u001b[39mmode:\n\u001b[0;32m    872\u001b[0m         \u001b[38;5;66;03m# Encoding\u001b[39;00m\n\u001b[1;32m--> 873\u001b[0m         handle \u001b[38;5;241m=\u001b[39m \u001b[38;5;28;43mopen\u001b[39;49m\u001b[43m(\u001b[49m\n\u001b[0;32m    874\u001b[0m \u001b[43m            \u001b[49m\u001b[43mhandle\u001b[49m\u001b[43m,\u001b[49m\n\u001b[0;32m    875\u001b[0m \u001b[43m            \u001b[49m\u001b[43mioargs\u001b[49m\u001b[38;5;241;43m.\u001b[39;49m\u001b[43mmode\u001b[49m\u001b[43m,\u001b[49m\n\u001b[0;32m    876\u001b[0m \u001b[43m            \u001b[49m\u001b[43mencoding\u001b[49m\u001b[38;5;241;43m=\u001b[39;49m\u001b[43mioargs\u001b[49m\u001b[38;5;241;43m.\u001b[39;49m\u001b[43mencoding\u001b[49m\u001b[43m,\u001b[49m\n\u001b[0;32m    877\u001b[0m \u001b[43m            \u001b[49m\u001b[43merrors\u001b[49m\u001b[38;5;241;43m=\u001b[39;49m\u001b[43merrors\u001b[49m\u001b[43m,\u001b[49m\n\u001b[0;32m    878\u001b[0m \u001b[43m            \u001b[49m\u001b[43mnewline\u001b[49m\u001b[38;5;241;43m=\u001b[39;49m\u001b[38;5;124;43m\"\u001b[39;49m\u001b[38;5;124;43m\"\u001b[39;49m\u001b[43m,\u001b[49m\n\u001b[0;32m    879\u001b[0m \u001b[43m        \u001b[49m\u001b[43m)\u001b[49m\n\u001b[0;32m    880\u001b[0m     \u001b[38;5;28;01melse\u001b[39;00m:\n\u001b[0;32m    881\u001b[0m         \u001b[38;5;66;03m# Binary mode\u001b[39;00m\n\u001b[0;32m    882\u001b[0m         handle \u001b[38;5;241m=\u001b[39m \u001b[38;5;28mopen\u001b[39m(handle, ioargs\u001b[38;5;241m.\u001b[39mmode)\n",
      "\u001b[1;31mFileNotFoundError\u001b[0m: [Errno 2] No such file or directory: '/kaggle/input/supply-chain-analysis/supply_chain_data.csv'"
     ]
    }
   ],
   "source": [
    "df = pd.read_csv(\"/kaggle/input/supply-chain-analysis/supply_chain_data.csv\")"
   ]
  },
  {
   "cell_type": "code",
   "execution_count": null,
   "id": "6b1c3589",
   "metadata": {
    "execution": {
     "iopub.execute_input": "2024-01-04T03:27:18.651542Z",
     "iopub.status.busy": "2024-01-04T03:27:18.650927Z",
     "iopub.status.idle": "2024-01-04T03:27:18.689654Z",
     "shell.execute_reply": "2024-01-04T03:27:18.688497Z"
    },
    "papermill": {
     "duration": 0.054102,
     "end_time": "2024-01-04T03:27:18.693032",
     "exception": false,
     "start_time": "2024-01-04T03:27:18.638930",
     "status": "completed"
    },
    "tags": []
   },
   "outputs": [
    {
     "data": {
      "text/html": [
       "<div>\n",
       "<style scoped>\n",
       "    .dataframe tbody tr th:only-of-type {\n",
       "        vertical-align: middle;\n",
       "    }\n",
       "\n",
       "    .dataframe tbody tr th {\n",
       "        vertical-align: top;\n",
       "    }\n",
       "\n",
       "    .dataframe thead th {\n",
       "        text-align: right;\n",
       "    }\n",
       "</style>\n",
       "<table border=\"1\" class=\"dataframe\">\n",
       "  <thead>\n",
       "    <tr style=\"text-align: right;\">\n",
       "      <th></th>\n",
       "      <th>Product type</th>\n",
       "      <th>SKU</th>\n",
       "      <th>Price</th>\n",
       "      <th>Availability</th>\n",
       "      <th>Number of products sold</th>\n",
       "      <th>Revenue generated</th>\n",
       "      <th>Customer demographics</th>\n",
       "      <th>Stock levels</th>\n",
       "      <th>Lead times</th>\n",
       "      <th>Order quantities</th>\n",
       "      <th>Shipping times</th>\n",
       "      <th>Shipping carriers</th>\n",
       "      <th>Shipping costs</th>\n",
       "      <th>Supplier name</th>\n",
       "      <th>Location</th>\n",
       "      <th>Lead time</th>\n",
       "      <th>Production volumes</th>\n",
       "      <th>Manufacturing lead time</th>\n",
       "      <th>Manufacturing costs</th>\n",
       "      <th>Inspection results</th>\n",
       "      <th>Defect rates</th>\n",
       "      <th>Transportation modes</th>\n",
       "      <th>Routes</th>\n",
       "      <th>Costs</th>\n",
       "    </tr>\n",
       "  </thead>\n",
       "  <tbody>\n",
       "    <tr>\n",
       "      <th>0</th>\n",
       "      <td>haircare</td>\n",
       "      <td>SKU0</td>\n",
       "      <td>69.808006</td>\n",
       "      <td>55</td>\n",
       "      <td>802</td>\n",
       "      <td>8661.996792</td>\n",
       "      <td>Non-binary</td>\n",
       "      <td>58</td>\n",
       "      <td>7</td>\n",
       "      <td>96</td>\n",
       "      <td>4</td>\n",
       "      <td>Carrier B</td>\n",
       "      <td>2.956572</td>\n",
       "      <td>Supplier 3</td>\n",
       "      <td>Mumbai</td>\n",
       "      <td>29</td>\n",
       "      <td>215</td>\n",
       "      <td>29</td>\n",
       "      <td>46.279879</td>\n",
       "      <td>Pending</td>\n",
       "      <td>0.226410</td>\n",
       "      <td>Road</td>\n",
       "      <td>Route B</td>\n",
       "      <td>187.752075</td>\n",
       "    </tr>\n",
       "    <tr>\n",
       "      <th>1</th>\n",
       "      <td>skincare</td>\n",
       "      <td>SKU1</td>\n",
       "      <td>14.843523</td>\n",
       "      <td>95</td>\n",
       "      <td>736</td>\n",
       "      <td>7460.900065</td>\n",
       "      <td>Female</td>\n",
       "      <td>53</td>\n",
       "      <td>30</td>\n",
       "      <td>37</td>\n",
       "      <td>2</td>\n",
       "      <td>Carrier A</td>\n",
       "      <td>9.716575</td>\n",
       "      <td>Supplier 3</td>\n",
       "      <td>Mumbai</td>\n",
       "      <td>23</td>\n",
       "      <td>517</td>\n",
       "      <td>30</td>\n",
       "      <td>33.616769</td>\n",
       "      <td>Pending</td>\n",
       "      <td>4.854068</td>\n",
       "      <td>Road</td>\n",
       "      <td>Route B</td>\n",
       "      <td>503.065579</td>\n",
       "    </tr>\n",
       "    <tr>\n",
       "      <th>2</th>\n",
       "      <td>haircare</td>\n",
       "      <td>SKU2</td>\n",
       "      <td>11.319683</td>\n",
       "      <td>34</td>\n",
       "      <td>8</td>\n",
       "      <td>9577.749626</td>\n",
       "      <td>Unknown</td>\n",
       "      <td>1</td>\n",
       "      <td>10</td>\n",
       "      <td>88</td>\n",
       "      <td>2</td>\n",
       "      <td>Carrier B</td>\n",
       "      <td>8.054479</td>\n",
       "      <td>Supplier 1</td>\n",
       "      <td>Mumbai</td>\n",
       "      <td>12</td>\n",
       "      <td>971</td>\n",
       "      <td>27</td>\n",
       "      <td>30.688019</td>\n",
       "      <td>Pending</td>\n",
       "      <td>4.580593</td>\n",
       "      <td>Air</td>\n",
       "      <td>Route C</td>\n",
       "      <td>141.920282</td>\n",
       "    </tr>\n",
       "    <tr>\n",
       "      <th>3</th>\n",
       "      <td>skincare</td>\n",
       "      <td>SKU3</td>\n",
       "      <td>61.163343</td>\n",
       "      <td>68</td>\n",
       "      <td>83</td>\n",
       "      <td>7766.836426</td>\n",
       "      <td>Non-binary</td>\n",
       "      <td>23</td>\n",
       "      <td>13</td>\n",
       "      <td>59</td>\n",
       "      <td>6</td>\n",
       "      <td>Carrier C</td>\n",
       "      <td>1.729569</td>\n",
       "      <td>Supplier 5</td>\n",
       "      <td>Kolkata</td>\n",
       "      <td>24</td>\n",
       "      <td>937</td>\n",
       "      <td>18</td>\n",
       "      <td>35.624741</td>\n",
       "      <td>Fail</td>\n",
       "      <td>4.746649</td>\n",
       "      <td>Rail</td>\n",
       "      <td>Route A</td>\n",
       "      <td>254.776159</td>\n",
       "    </tr>\n",
       "    <tr>\n",
       "      <th>4</th>\n",
       "      <td>skincare</td>\n",
       "      <td>SKU4</td>\n",
       "      <td>4.805496</td>\n",
       "      <td>26</td>\n",
       "      <td>871</td>\n",
       "      <td>2686.505152</td>\n",
       "      <td>Non-binary</td>\n",
       "      <td>5</td>\n",
       "      <td>3</td>\n",
       "      <td>56</td>\n",
       "      <td>8</td>\n",
       "      <td>Carrier A</td>\n",
       "      <td>3.890548</td>\n",
       "      <td>Supplier 1</td>\n",
       "      <td>Delhi</td>\n",
       "      <td>5</td>\n",
       "      <td>414</td>\n",
       "      <td>3</td>\n",
       "      <td>92.065161</td>\n",
       "      <td>Fail</td>\n",
       "      <td>3.145580</td>\n",
       "      <td>Air</td>\n",
       "      <td>Route A</td>\n",
       "      <td>923.440632</td>\n",
       "    </tr>\n",
       "  </tbody>\n",
       "</table>\n",
       "</div>"
      ],
      "text/plain": [
       "  Product type   SKU      Price  Availability  Number of products sold  \\\n",
       "0     haircare  SKU0  69.808006            55                      802   \n",
       "1     skincare  SKU1  14.843523            95                      736   \n",
       "2     haircare  SKU2  11.319683            34                        8   \n",
       "3     skincare  SKU3  61.163343            68                       83   \n",
       "4     skincare  SKU4   4.805496            26                      871   \n",
       "\n",
       "   Revenue generated Customer demographics  Stock levels  Lead times  \\\n",
       "0        8661.996792            Non-binary            58           7   \n",
       "1        7460.900065                Female            53          30   \n",
       "2        9577.749626               Unknown             1          10   \n",
       "3        7766.836426            Non-binary            23          13   \n",
       "4        2686.505152            Non-binary             5           3   \n",
       "\n",
       "   Order quantities  Shipping times Shipping carriers  Shipping costs  \\\n",
       "0                96               4         Carrier B        2.956572   \n",
       "1                37               2         Carrier A        9.716575   \n",
       "2                88               2         Carrier B        8.054479   \n",
       "3                59               6         Carrier C        1.729569   \n",
       "4                56               8         Carrier A        3.890548   \n",
       "\n",
       "  Supplier name Location  Lead time  Production volumes  \\\n",
       "0    Supplier 3   Mumbai         29                 215   \n",
       "1    Supplier 3   Mumbai         23                 517   \n",
       "2    Supplier 1   Mumbai         12                 971   \n",
       "3    Supplier 5  Kolkata         24                 937   \n",
       "4    Supplier 1    Delhi          5                 414   \n",
       "\n",
       "   Manufacturing lead time  Manufacturing costs Inspection results  \\\n",
       "0                       29            46.279879            Pending   \n",
       "1                       30            33.616769            Pending   \n",
       "2                       27            30.688019            Pending   \n",
       "3                       18            35.624741               Fail   \n",
       "4                        3            92.065161               Fail   \n",
       "\n",
       "   Defect rates Transportation modes   Routes       Costs  \n",
       "0      0.226410                 Road  Route B  187.752075  \n",
       "1      4.854068                 Road  Route B  503.065579  \n",
       "2      4.580593                  Air  Route C  141.920282  \n",
       "3      4.746649                 Rail  Route A  254.776159  \n",
       "4      3.145580                  Air  Route A  923.440632  "
      ]
     },
     "execution_count": 4,
     "metadata": {},
     "output_type": "execute_result"
    }
   ],
   "source": [
    "df.head(5)"
   ]
  },
  {
   "cell_type": "code",
   "execution_count": null,
   "id": "62883d8a",
   "metadata": {
    "execution": {
     "iopub.execute_input": "2024-01-04T03:27:18.715793Z",
     "iopub.status.busy": "2024-01-04T03:27:18.715149Z",
     "iopub.status.idle": "2024-01-04T03:27:18.835866Z",
     "shell.execute_reply": "2024-01-04T03:27:18.834757Z"
    },
    "papermill": {
     "duration": 0.135008,
     "end_time": "2024-01-04T03:27:18.838487",
     "exception": false,
     "start_time": "2024-01-04T03:27:18.703479",
     "status": "completed"
    },
    "tags": []
   },
   "outputs": [
    {
     "name": "stdout",
     "output_type": "stream",
     "text": [
      "<class 'pandas.core.frame.DataFrame'>\n",
      "RangeIndex: 100 entries, 0 to 99\n",
      "Data columns (total 24 columns):\n",
      " #   Column                   Non-Null Count  Dtype  \n",
      "---  ------                   --------------  -----  \n",
      " 0   Product type             100 non-null    object \n",
      " 1   SKU                      100 non-null    object \n",
      " 2   Price                    100 non-null    float64\n",
      " 3   Availability             100 non-null    int64  \n",
      " 4   Number of products sold  100 non-null    int64  \n",
      " 5   Revenue generated        100 non-null    float64\n",
      " 6   Customer demographics    100 non-null    object \n",
      " 7   Stock levels             100 non-null    int64  \n",
      " 8   Lead times               100 non-null    int64  \n",
      " 9   Order quantities         100 non-null    int64  \n",
      " 10  Shipping times           100 non-null    int64  \n",
      " 11  Shipping carriers        100 non-null    object \n",
      " 12  Shipping costs           100 non-null    float64\n",
      " 13  Supplier name            100 non-null    object \n",
      " 14  Location                 100 non-null    object \n",
      " 15  Lead time                100 non-null    int64  \n",
      " 16  Production volumes       100 non-null    int64  \n",
      " 17  Manufacturing lead time  100 non-null    int64  \n",
      " 18  Manufacturing costs      100 non-null    float64\n",
      " 19  Inspection results       100 non-null    object \n",
      " 20  Defect rates             100 non-null    float64\n",
      " 21  Transportation modes     100 non-null    object \n",
      " 22  Routes                   100 non-null    object \n",
      " 23  Costs                    100 non-null    float64\n",
      "dtypes: float64(6), int64(9), object(9)\n",
      "memory usage: 18.9+ KB\n"
     ]
    }
   ],
   "source": [
    "# Checking null values and data type of datasets\n",
    "df.info()"
   ]
  },
  {
   "cell_type": "code",
   "execution_count": null,
   "id": "afebd255",
   "metadata": {
    "execution": {
     "iopub.execute_input": "2024-01-04T03:27:18.860915Z",
     "iopub.status.busy": "2024-01-04T03:27:18.860245Z",
     "iopub.status.idle": "2024-01-04T03:27:18.869506Z",
     "shell.execute_reply": "2024-01-04T03:27:18.868222Z"
    },
    "papermill": {
     "duration": 0.023433,
     "end_time": "2024-01-04T03:27:18.872036",
     "exception": false,
     "start_time": "2024-01-04T03:27:18.848603",
     "status": "completed"
    },
    "tags": []
   },
   "outputs": [
    {
     "data": {
      "text/plain": [
       "Location\n",
       "Kolkata      25\n",
       "Mumbai       22\n",
       "Chennai      20\n",
       "Bangalore    18\n",
       "Delhi        15\n",
       "Name: count, dtype: int64"
      ]
     },
     "execution_count": 6,
     "metadata": {},
     "output_type": "execute_result"
    }
   ],
   "source": [
    "#Checking location wise counts\n",
    "location_counts = df['Location'].value_counts()\n",
    "location_counts"
   ]
  },
  {
   "cell_type": "code",
   "execution_count": null,
   "id": "05add4ed",
   "metadata": {
    "execution": {
     "iopub.execute_input": "2024-01-04T03:27:18.894504Z",
     "iopub.status.busy": "2024-01-04T03:27:18.894100Z",
     "iopub.status.idle": "2024-01-04T03:27:18.913713Z",
     "shell.execute_reply": "2024-01-04T03:27:18.912222Z"
    },
    "papermill": {
     "duration": 0.033989,
     "end_time": "2024-01-04T03:27:18.916369",
     "exception": false,
     "start_time": "2024-01-04T03:27:18.882380",
     "status": "completed"
    },
    "tags": []
   },
   "outputs": [
    {
     "data": {
      "text/html": [
       "<div>\n",
       "<style scoped>\n",
       "    .dataframe tbody tr th:only-of-type {\n",
       "        vertical-align: middle;\n",
       "    }\n",
       "\n",
       "    .dataframe tbody tr th {\n",
       "        vertical-align: top;\n",
       "    }\n",
       "\n",
       "    .dataframe thead th {\n",
       "        text-align: right;\n",
       "    }\n",
       "</style>\n",
       "<table border=\"1\" class=\"dataframe\">\n",
       "  <thead>\n",
       "    <tr style=\"text-align: right;\">\n",
       "      <th></th>\n",
       "      <th>Location</th>\n",
       "      <th>Product type</th>\n",
       "      <th>Counts</th>\n",
       "    </tr>\n",
       "  </thead>\n",
       "  <tbody>\n",
       "    <tr>\n",
       "      <th>0</th>\n",
       "      <td>Bangalore</td>\n",
       "      <td>cosmetics</td>\n",
       "      <td>3</td>\n",
       "    </tr>\n",
       "    <tr>\n",
       "      <th>1</th>\n",
       "      <td>Bangalore</td>\n",
       "      <td>haircare</td>\n",
       "      <td>9</td>\n",
       "    </tr>\n",
       "    <tr>\n",
       "      <th>2</th>\n",
       "      <td>Bangalore</td>\n",
       "      <td>skincare</td>\n",
       "      <td>6</td>\n",
       "    </tr>\n",
       "    <tr>\n",
       "      <th>3</th>\n",
       "      <td>Chennai</td>\n",
       "      <td>cosmetics</td>\n",
       "      <td>5</td>\n",
       "    </tr>\n",
       "    <tr>\n",
       "      <th>4</th>\n",
       "      <td>Chennai</td>\n",
       "      <td>haircare</td>\n",
       "      <td>6</td>\n",
       "    </tr>\n",
       "    <tr>\n",
       "      <th>5</th>\n",
       "      <td>Chennai</td>\n",
       "      <td>skincare</td>\n",
       "      <td>9</td>\n",
       "    </tr>\n",
       "    <tr>\n",
       "      <th>6</th>\n",
       "      <td>Delhi</td>\n",
       "      <td>cosmetics</td>\n",
       "      <td>6</td>\n",
       "    </tr>\n",
       "    <tr>\n",
       "      <th>7</th>\n",
       "      <td>Delhi</td>\n",
       "      <td>haircare</td>\n",
       "      <td>4</td>\n",
       "    </tr>\n",
       "    <tr>\n",
       "      <th>8</th>\n",
       "      <td>Delhi</td>\n",
       "      <td>skincare</td>\n",
       "      <td>5</td>\n",
       "    </tr>\n",
       "    <tr>\n",
       "      <th>9</th>\n",
       "      <td>Kolkata</td>\n",
       "      <td>cosmetics</td>\n",
       "      <td>4</td>\n",
       "    </tr>\n",
       "    <tr>\n",
       "      <th>10</th>\n",
       "      <td>Kolkata</td>\n",
       "      <td>haircare</td>\n",
       "      <td>8</td>\n",
       "    </tr>\n",
       "    <tr>\n",
       "      <th>11</th>\n",
       "      <td>Kolkata</td>\n",
       "      <td>skincare</td>\n",
       "      <td>13</td>\n",
       "    </tr>\n",
       "    <tr>\n",
       "      <th>12</th>\n",
       "      <td>Mumbai</td>\n",
       "      <td>cosmetics</td>\n",
       "      <td>8</td>\n",
       "    </tr>\n",
       "    <tr>\n",
       "      <th>13</th>\n",
       "      <td>Mumbai</td>\n",
       "      <td>haircare</td>\n",
       "      <td>7</td>\n",
       "    </tr>\n",
       "    <tr>\n",
       "      <th>14</th>\n",
       "      <td>Mumbai</td>\n",
       "      <td>skincare</td>\n",
       "      <td>7</td>\n",
       "    </tr>\n",
       "  </tbody>\n",
       "</table>\n",
       "</div>"
      ],
      "text/plain": [
       "     Location Product type  Counts\n",
       "0   Bangalore    cosmetics       3\n",
       "1   Bangalore     haircare       9\n",
       "2   Bangalore     skincare       6\n",
       "3     Chennai    cosmetics       5\n",
       "4     Chennai     haircare       6\n",
       "5     Chennai     skincare       9\n",
       "6       Delhi    cosmetics       6\n",
       "7       Delhi     haircare       4\n",
       "8       Delhi     skincare       5\n",
       "9     Kolkata    cosmetics       4\n",
       "10    Kolkata     haircare       8\n",
       "11    Kolkata     skincare      13\n",
       "12     Mumbai    cosmetics       8\n",
       "13     Mumbai     haircare       7\n",
       "14     Mumbai     skincare       7"
      ]
     },
     "execution_count": 7,
     "metadata": {},
     "output_type": "execute_result"
    }
   ],
   "source": [
    "grouped_Location = df.groupby(['Location', 'Product type']).size().reset_index(name='Counts')\n",
    "grouped_Location"
   ]
  },
  {
   "cell_type": "markdown",
   "id": "fa21e277",
   "metadata": {
    "papermill": {
     "duration": 0.010333,
     "end_time": "2024-01-04T03:27:18.937326",
     "exception": false,
     "start_time": "2024-01-04T03:27:18.926993",
     "status": "completed"
    },
    "tags": []
   },
   "source": [
    "# Explore location wise products "
   ]
  },
  {
   "cell_type": "code",
   "execution_count": null,
   "id": "5ac03703",
   "metadata": {
    "execution": {
     "iopub.execute_input": "2024-01-04T03:27:18.960885Z",
     "iopub.status.busy": "2024-01-04T03:27:18.960429Z",
     "iopub.status.idle": "2024-01-04T03:27:19.400094Z",
     "shell.execute_reply": "2024-01-04T03:27:19.398827Z"
    },
    "papermill": {
     "duration": 0.454664,
     "end_time": "2024-01-04T03:27:19.403036",
     "exception": false,
     "start_time": "2024-01-04T03:27:18.948372",
     "status": "completed"
    },
    "tags": []
   },
   "outputs": [
    {
     "data": {
      "image/png": "[encoded data removed]",
      "text/plain": [
       "<Figure size 1000x600 with 1 Axes>"
      ]
     },
     "metadata": {},
     "output_type": "display_data"
    }
   ],
   "source": [
    "# Create a bar chart\n",
    "plt.figure(figsize=(10,6))\n",
    "sns.barplot(x='Location', y='Counts', hue = 'Product type', data = grouped_Location,palette='pastel')\n",
    "plt.xticks(rotation=90)  # Rotate x-axis labels for better visibility if needed\n",
    "plt.title(\"Location wise Products\")\n",
    "plt.xlabel('Location')\n",
    "plt.ylabel('Count')\n",
    "plt.show()"
   ]
  },
  {
   "cell_type": "code",
   "execution_count": null,
   "id": "772211db",
   "metadata": {
    "execution": {
     "iopub.execute_input": "2024-01-04T03:27:19.427322Z",
     "iopub.status.busy": "2024-01-04T03:27:19.426881Z",
     "iopub.status.idle": "2024-01-04T03:27:19.436881Z",
     "shell.execute_reply": "2024-01-04T03:27:19.435660Z"
    },
    "papermill": {
     "duration": 0.024796,
     "end_time": "2024-01-04T03:27:19.439072",
     "exception": false,
     "start_time": "2024-01-04T03:27:19.414276",
     "status": "completed"
    },
    "tags": []
   },
   "outputs": [
    {
     "data": {
      "text/plain": [
       "Transportation modes\n",
       "Road    29\n",
       "Rail    28\n",
       "Air     26\n",
       "Sea     17\n",
       "Name: count, dtype: int64"
      ]
     },
     "execution_count": 9,
     "metadata": {},
     "output_type": "execute_result"
    }
   ],
   "source": [
    "Transport_modes = df['Transportation modes'].value_counts()\n",
    "Transport_modes"
   ]
  },
  {
   "cell_type": "markdown",
   "id": "5b532308",
   "metadata": {
    "papermill": {
     "duration": 0.010968,
     "end_time": "2024-01-04T03:27:19.461307",
     "exception": false,
     "start_time": "2024-01-04T03:27:19.450339",
     "status": "completed"
    },
    "tags": []
   },
   "source": [
    "# Explore mode of Transports"
   ]
  },
  {
   "cell_type": "code",
   "execution_count": null,
   "id": "fc96f47a",
   "metadata": {
    "execution": {
     "iopub.execute_input": "2024-01-04T03:27:19.488642Z",
     "iopub.status.busy": "2024-01-04T03:27:19.487354Z",
     "iopub.status.idle": "2024-01-04T03:27:19.685013Z",
     "shell.execute_reply": "2024-01-04T03:27:19.683266Z"
    },
    "papermill": {
     "duration": 0.215408,
     "end_time": "2024-01-04T03:27:19.689596",
     "exception": false,
     "start_time": "2024-01-04T03:27:19.474188",
     "status": "completed"
    },
    "tags": []
   },
   "outputs": [
    {
     "data": {
      "image/png": "[encoded data removed]",
      "text/plain": [
       "<Figure size 640x480 with 1 Axes>"
      ]
     },
     "metadata": {},
     "output_type": "display_data"
    }
   ],
   "source": [
    "colors = (\"aquamarine\",\"mediumslateblue\",\"pink\", \"grey\")\n",
    "explode = [0.3 if i == 'Sea' else 0 for i in Transport_modes.index]\n",
    "plt.pie(x = Transport_modes, labels = Transport_modes.index, shadow=True, colors = colors, autopct='%1.1f%%', explode = explode)\n",
    "plt.show()"
   ]
  },
  {
   "cell_type": "code",
   "execution_count": null,
   "id": "ed1e84f5",
   "metadata": {
    "execution": {
     "iopub.execute_input": "2024-01-04T03:27:19.744196Z",
     "iopub.status.busy": "2024-01-04T03:27:19.743471Z",
     "iopub.status.idle": "2024-01-04T03:27:19.752773Z",
     "shell.execute_reply": "2024-01-04T03:27:19.751871Z"
    },
    "papermill": {
     "duration": 0.03993,
     "end_time": "2024-01-04T03:27:19.754962",
     "exception": false,
     "start_time": "2024-01-04T03:27:19.715032",
     "status": "completed"
    },
    "tags": []
   },
   "outputs": [
    {
     "data": {
      "text/plain": [
       "Location\n",
       "Bangalore    102601.723882\n",
       "Chennai      119142.815748\n",
       "Delhi         81027.701225\n",
       "Kolkata      137077.551005\n",
       "Mumbai       137755.026877\n",
       "Name: Revenue generated, dtype: float64"
      ]
     },
     "execution_count": 11,
     "metadata": {},
     "output_type": "execute_result"
    }
   ],
   "source": [
    "total_revenue = df.groupby('Location')['Revenue generated'].sum()\n",
    "total_revenue"
   ]
  },
  {
   "cell_type": "markdown",
   "id": "66774852",
   "metadata": {
    "execution": {
     "iopub.execute_input": "2023-12-24T13:11:51.397716Z",
     "iopub.status.busy": "2023-12-24T13:11:51.397346Z",
     "iopub.status.idle": "2023-12-24T13:11:51.403340Z",
     "shell.execute_reply": "2023-12-24T13:11:51.401526Z",
     "shell.execute_reply.started": "2023-12-24T13:11:51.397690Z"
    },
    "papermill": {
     "duration": 0.012148,
     "end_time": "2024-01-04T03:27:19.779586",
     "exception": false,
     "start_time": "2024-01-04T03:27:19.767438",
     "status": "completed"
    },
    "tags": []
   },
   "source": [
    "# Explore of Revenue Field"
   ]
  },
  {
   "cell_type": "markdown",
   "id": "69a1f0fe",
   "metadata": {
    "papermill": {
     "duration": 0.012269,
     "end_time": "2024-01-04T03:27:19.804553",
     "exception": false,
     "start_time": "2024-01-04T03:27:19.792284",
     "status": "completed"
    },
    "tags": []
   },
   "source": [
    "## Looks like Mumbai location has more sales than any other "
   ]
  },
  {
   "cell_type": "code",
   "execution_count": null,
   "id": "fd432e1d",
   "metadata": {
    "execution": {
     "iopub.execute_input": "2024-01-04T03:27:19.831873Z",
     "iopub.status.busy": "2024-01-04T03:27:19.831153Z",
     "iopub.status.idle": "2024-01-04T03:27:20.084546Z",
     "shell.execute_reply": "2024-01-04T03:27:20.083039Z"
    },
    "papermill": {
     "duration": 0.273429,
     "end_time": "2024-01-04T03:27:20.090508",
     "exception": false,
     "start_time": "2024-01-04T03:27:19.817079",
     "status": "completed"
    },
    "tags": []
   },
   "outputs": [
    {
     "data": {
      "image/png": "[encoded data removed]",
      "text/plain": [
       "<Figure size 1000x600 with 1 Axes>"
      ]
     },
     "metadata": {},
     "output_type": "display_data"
    }
   ],
   "source": [
    "colors = (\"rosybrown\",\"wheat\",\"lightcoral\", \"paleturquoise\", \"olive\" )\n",
    "plt.figure(figsize=(10, 6))\n",
    "plt.pie(total_revenue, labels = total_revenue.index, autopct='%1.1f%%', colors = colors, shadow = True,wedgeprops=dict(width=0.3))\n",
    "\n",
    "plt.title('Pie Chart of Total Revenue by Location')\n",
    "\n",
    "plt.show()"
   ]
  },
  {
   "cell_type": "markdown",
   "id": "da7c4f7d",
   "metadata": {
    "papermill": {
     "duration": 0.013298,
     "end_time": "2024-01-04T03:27:20.127022",
     "exception": false,
     "start_time": "2024-01-04T03:27:20.113724",
     "status": "completed"
    },
    "tags": []
   },
   "source": []
  },
  {
   "cell_type": "markdown",
   "id": "ac2d6d35",
   "metadata": {
    "papermill": {
     "duration": 0.013043,
     "end_time": "2024-01-04T03:27:20.153734",
     "exception": false,
     "start_time": "2024-01-04T03:27:20.140691",
     "status": "completed"
    },
    "tags": []
   },
   "source": [
    "## Skincare products have an average availability of 95 units with 736 units sold."
   ]
  },
  {
   "cell_type": "code",
   "execution_count": null,
   "id": "028a8841",
   "metadata": {
    "execution": {
     "iopub.execute_input": "2024-01-04T03:27:20.184483Z",
     "iopub.status.busy": "2024-01-04T03:27:20.183774Z",
     "iopub.status.idle": "2024-01-04T03:27:20.473313Z",
     "shell.execute_reply": "2024-01-04T03:27:20.472219Z"
    },
    "papermill": {
     "duration": 0.308073,
     "end_time": "2024-01-04T03:27:20.476186",
     "exception": false,
     "start_time": "2024-01-04T03:27:20.168113",
     "status": "completed"
    },
    "tags": []
   },
   "outputs": [
    {
     "data": {
      "image/png": "[encoded data removed]",
      "text/plain": [
       "<Figure size 1000x600 with 1 Axes>"
      ]
     },
     "metadata": {},
     "output_type": "display_data"
    }
   ],
   "source": [
    "plt.figure(figsize=(10, 6))\n",
    "sns.countplot(data=df, x='Product type', order=df['Product type'].value_counts().index)\n",
    "plt.title('Product Type Distribution')\n",
    "plt.xticks(rotation=45)\n",
    "plt.show()\n"
   ]
  },
  {
   "cell_type": "code",
   "execution_count": null,
   "id": "3fd2ca38",
   "metadata": {
    "execution": {
     "iopub.execute_input": "2024-01-04T03:27:20.506140Z",
     "iopub.status.busy": "2024-01-04T03:27:20.505712Z",
     "iopub.status.idle": "2024-01-04T03:27:20.956524Z",
     "shell.execute_reply": "2024-01-04T03:27:20.955230Z"
    },
    "papermill": {
     "duration": 0.469642,
     "end_time": "2024-01-04T03:27:20.959754",
     "exception": false,
     "start_time": "2024-01-04T03:27:20.490112",
     "status": "completed"
    },
    "tags": []
   },
   "outputs": [
    {
     "data": {
      "image/png": "[encoded data removed]",
      "text/plain": [
       "<Figure size 1000x600 with 1 Axes>"
      ]
     },
     "metadata": {},
     "output_type": "display_data"
    }
   ],
   "source": [
    "#Checking price distribution.\n",
    "plt.figure(figsize=(10, 6))\n",
    "sns.histplot(df['Price'], bins=20, kde=True)\n",
    "plt.title('Price Distribution')\n",
    "plt.xlabel('Price')\n",
    "plt.ylabel('Frequency')\n",
    "plt.show()"
   ]
  },
  {
   "cell_type": "markdown",
   "id": "22e472af",
   "metadata": {
    "papermill": {
     "duration": 0.014295,
     "end_time": "2024-01-04T03:27:20.988745",
     "exception": false,
     "start_time": "2024-01-04T03:27:20.974450",
     "status": "completed"
    },
    "tags": []
   },
   "source": [
    "# Explore the Defect rates on product type"
   ]
  },
  {
   "cell_type": "code",
   "execution_count": null,
   "id": "35930a51",
   "metadata": {
    "execution": {
     "iopub.execute_input": "2024-01-04T03:27:21.022179Z",
     "iopub.status.busy": "2024-01-04T03:27:21.021433Z",
     "iopub.status.idle": "2024-01-04T03:27:21.034856Z",
     "shell.execute_reply": "2024-01-04T03:27:21.033874Z"
    },
    "papermill": {
     "duration": 0.0342,
     "end_time": "2024-01-04T03:27:21.037762",
     "exception": false,
     "start_time": "2024-01-04T03:27:21.003562",
     "status": "completed"
    },
    "tags": []
   },
   "outputs": [],
   "source": [
    "grouped_df = df.groupby(['Product type', 'Defect rates']).sum().reset_index()[['Product type', 'Defect rates']]"
   ]
  },
  {
   "cell_type": "code",
   "execution_count": null,
   "id": "a5565bc9",
   "metadata": {
    "execution": {
     "iopub.execute_input": "2024-01-04T03:27:21.070383Z",
     "iopub.status.busy": "2024-01-04T03:27:21.069599Z",
     "iopub.status.idle": "2024-01-04T03:27:21.084414Z",
     "shell.execute_reply": "2024-01-04T03:27:21.083202Z"
    },
    "papermill": {
     "duration": 0.034705,
     "end_time": "2024-01-04T03:27:21.087027",
     "exception": false,
     "start_time": "2024-01-04T03:27:21.052322",
     "status": "completed"
    },
    "tags": []
   },
   "outputs": [
    {
     "data": {
      "text/html": [
       "<div>\n",
       "<style scoped>\n",
       "    .dataframe tbody tr th:only-of-type {\n",
       "        vertical-align: middle;\n",
       "    }\n",
       "\n",
       "    .dataframe tbody tr th {\n",
       "        vertical-align: top;\n",
       "    }\n",
       "\n",
       "    .dataframe thead th {\n",
       "        text-align: right;\n",
       "    }\n",
       "</style>\n",
       "<table border=\"1\" class=\"dataframe\">\n",
       "  <thead>\n",
       "    <tr style=\"text-align: right;\">\n",
       "      <th></th>\n",
       "      <th>Product type</th>\n",
       "      <th>Defect rates</th>\n",
       "    </tr>\n",
       "  </thead>\n",
       "  <tbody>\n",
       "    <tr>\n",
       "      <th>0</th>\n",
       "      <td>cosmetics</td>\n",
       "      <td>0.018608</td>\n",
       "    </tr>\n",
       "    <tr>\n",
       "      <th>1</th>\n",
       "      <td>cosmetics</td>\n",
       "      <td>0.102021</td>\n",
       "    </tr>\n",
       "    <tr>\n",
       "      <th>2</th>\n",
       "      <td>cosmetics</td>\n",
       "      <td>0.333432</td>\n",
       "    </tr>\n",
       "    <tr>\n",
       "      <th>3</th>\n",
       "      <td>cosmetics</td>\n",
       "      <td>0.398177</td>\n",
       "    </tr>\n",
       "    <tr>\n",
       "      <th>4</th>\n",
       "      <td>cosmetics</td>\n",
       "      <td>0.447194</td>\n",
       "    </tr>\n",
       "    <tr>\n",
       "      <th>...</th>\n",
       "      <td>...</td>\n",
       "      <td>...</td>\n",
       "    </tr>\n",
       "    <tr>\n",
       "      <th>95</th>\n",
       "      <td>skincare</td>\n",
       "      <td>4.231417</td>\n",
       "    </tr>\n",
       "    <tr>\n",
       "      <th>96</th>\n",
       "      <td>skincare</td>\n",
       "      <td>4.746649</td>\n",
       "    </tr>\n",
       "    <tr>\n",
       "      <th>97</th>\n",
       "      <td>skincare</td>\n",
       "      <td>4.854068</td>\n",
       "    </tr>\n",
       "    <tr>\n",
       "      <th>98</th>\n",
       "      <td>skincare</td>\n",
       "      <td>4.911096</td>\n",
       "    </tr>\n",
       "    <tr>\n",
       "      <th>99</th>\n",
       "      <td>skincare</td>\n",
       "      <td>4.939255</td>\n",
       "    </tr>\n",
       "  </tbody>\n",
       "</table>\n",
       "<p>100 rows × 2 columns</p>\n",
       "</div>"
      ],
      "text/plain": [
       "   Product type  Defect rates\n",
       "0     cosmetics      0.018608\n",
       "1     cosmetics      0.102021\n",
       "2     cosmetics      0.333432\n",
       "3     cosmetics      0.398177\n",
       "4     cosmetics      0.447194\n",
       "..          ...           ...\n",
       "95     skincare      4.231417\n",
       "96     skincare      4.746649\n",
       "97     skincare      4.854068\n",
       "98     skincare      4.911096\n",
       "99     skincare      4.939255\n",
       "\n",
       "[100 rows x 2 columns]"
      ]
     },
     "execution_count": 16,
     "metadata": {},
     "output_type": "execute_result"
    }
   ],
   "source": [
    "grouped_df"
   ]
  },
  {
   "cell_type": "code",
   "execution_count": null,
   "id": "488188d6",
   "metadata": {
    "execution": {
     "iopub.execute_input": "2024-01-04T03:27:21.119375Z",
     "iopub.status.busy": "2024-01-04T03:27:21.118609Z",
     "iopub.status.idle": "2024-01-04T03:27:21.471928Z",
     "shell.execute_reply": "2024-01-04T03:27:21.470558Z"
    },
    "papermill": {
     "duration": 0.372869,
     "end_time": "2024-01-04T03:27:21.474752",
     "exception": false,
     "start_time": "2024-01-04T03:27:21.101883",
     "status": "completed"
    },
    "tags": []
   },
   "outputs": [
    {
     "data": {
      "image/png": "[encoded data removed]",
      "text/plain": [
       "<Figure size 640x480 with 1 Axes>"
      ]
     },
     "metadata": {},
     "output_type": "display_data"
    }
   ],
   "source": [
    "# Haircare products has more defects\n",
    "sns.barplot(x = 'Defect rates', y = 'Product type', data =grouped_df, estimator = \"mean\", palette='inferno' )\n",
    "plt.title(\"Defect Rates by Product Type\")\n",
    "plt.show()"
   ]
  },
  {
   "cell_type": "code",
   "execution_count": null,
   "id": "d1d8554f",
   "metadata": {
    "execution": {
     "iopub.execute_input": "2024-01-04T03:27:21.509138Z",
     "iopub.status.busy": "2024-01-04T03:27:21.508045Z",
     "iopub.status.idle": "2024-01-04T03:27:21.521398Z",
     "shell.execute_reply": "2024-01-04T03:27:21.520213Z"
    },
    "papermill": {
     "duration": 0.034528,
     "end_time": "2024-01-04T03:27:21.524504",
     "exception": false,
     "start_time": "2024-01-04T03:27:21.489976",
     "status": "completed"
    },
    "tags": []
   },
   "outputs": [],
   "source": [
    "grouped_df1 = df.groupby(['Transportation modes', 'Defect rates']).sum().reset_index()[['Transportation modes', 'Defect rates']]"
   ]
  },
  {
   "cell_type": "code",
   "execution_count": null,
   "id": "e1d12540",
   "metadata": {
    "execution": {
     "iopub.execute_input": "2024-01-04T03:27:21.562500Z",
     "iopub.status.busy": "2024-01-04T03:27:21.561536Z",
     "iopub.status.idle": "2024-01-04T03:27:21.577867Z",
     "shell.execute_reply": "2024-01-04T03:27:21.576898Z"
    },
    "papermill": {
     "duration": 0.040915,
     "end_time": "2024-01-04T03:27:21.582001",
     "exception": false,
     "start_time": "2024-01-04T03:27:21.541086",
     "status": "completed"
    },
    "tags": []
   },
   "outputs": [
    {
     "data": {
      "text/html": [
       "<div>\n",
       "<style scoped>\n",
       "    .dataframe tbody tr th:only-of-type {\n",
       "        vertical-align: middle;\n",
       "    }\n",
       "\n",
       "    .dataframe tbody tr th {\n",
       "        vertical-align: top;\n",
       "    }\n",
       "\n",
       "    .dataframe thead th {\n",
       "        text-align: right;\n",
       "    }\n",
       "</style>\n",
       "<table border=\"1\" class=\"dataframe\">\n",
       "  <thead>\n",
       "    <tr style=\"text-align: right;\">\n",
       "      <th></th>\n",
       "      <th>Transportation modes</th>\n",
       "      <th>Defect rates</th>\n",
       "    </tr>\n",
       "  </thead>\n",
       "  <tbody>\n",
       "    <tr>\n",
       "      <th>0</th>\n",
       "      <td>Air</td>\n",
       "      <td>0.018608</td>\n",
       "    </tr>\n",
       "    <tr>\n",
       "      <th>1</th>\n",
       "      <td>Air</td>\n",
       "      <td>0.021170</td>\n",
       "    </tr>\n",
       "    <tr>\n",
       "      <th>2</th>\n",
       "      <td>Air</td>\n",
       "      <td>0.100683</td>\n",
       "    </tr>\n",
       "    <tr>\n",
       "      <th>3</th>\n",
       "      <td>Air</td>\n",
       "      <td>0.102021</td>\n",
       "    </tr>\n",
       "    <tr>\n",
       "      <th>4</th>\n",
       "      <td>Air</td>\n",
       "      <td>0.159486</td>\n",
       "    </tr>\n",
       "    <tr>\n",
       "      <th>...</th>\n",
       "      <td>...</td>\n",
       "      <td>...</td>\n",
       "    </tr>\n",
       "    <tr>\n",
       "      <th>95</th>\n",
       "      <td>Sea</td>\n",
       "      <td>3.541046</td>\n",
       "    </tr>\n",
       "    <tr>\n",
       "      <th>96</th>\n",
       "      <td>Sea</td>\n",
       "      <td>3.632843</td>\n",
       "    </tr>\n",
       "    <tr>\n",
       "      <th>97</th>\n",
       "      <td>Sea</td>\n",
       "      <td>3.693738</td>\n",
       "    </tr>\n",
       "    <tr>\n",
       "      <th>98</th>\n",
       "      <td>Sea</td>\n",
       "      <td>4.096881</td>\n",
       "    </tr>\n",
       "    <tr>\n",
       "      <th>99</th>\n",
       "      <td>Sea</td>\n",
       "      <td>4.548920</td>\n",
       "    </tr>\n",
       "  </tbody>\n",
       "</table>\n",
       "<p>100 rows × 2 columns</p>\n",
       "</div>"
      ],
      "text/plain": [
       "   Transportation modes  Defect rates\n",
       "0                   Air      0.018608\n",
       "1                   Air      0.021170\n",
       "2                   Air      0.100683\n",
       "3                   Air      0.102021\n",
       "4                   Air      0.159486\n",
       "..                  ...           ...\n",
       "95                  Sea      3.541046\n",
       "96                  Sea      3.632843\n",
       "97                  Sea      3.693738\n",
       "98                  Sea      4.096881\n",
       "99                  Sea      4.548920\n",
       "\n",
       "[100 rows x 2 columns]"
      ]
     },
     "execution_count": 19,
     "metadata": {},
     "output_type": "execute_result"
    }
   ],
   "source": [
    "grouped_df1"
   ]
  },
  {
   "cell_type": "code",
   "execution_count": null,
   "id": "dc31241a",
   "metadata": {
    "execution": {
     "iopub.execute_input": "2024-01-04T03:27:21.624426Z",
     "iopub.status.busy": "2024-01-04T03:27:21.623575Z",
     "iopub.status.idle": "2024-01-04T03:27:22.046516Z",
     "shell.execute_reply": "2024-01-04T03:27:22.044465Z"
    },
    "papermill": {
     "duration": 0.446445,
     "end_time": "2024-01-04T03:27:22.051372",
     "exception": false,
     "start_time": "2024-01-04T03:27:21.604927",
     "status": "completed"
    },
    "tags": []
   },
   "outputs": [
    {
     "data": {
      "image/png": "[encoded data removed]",
      "text/plain": [
       "<Figure size 640x480 with 1 Axes>"
      ]
     },
     "metadata": {},
     "output_type": "display_data"
    }
   ],
   "source": [
    "# Road Transport has more defects compare to AIR / RAIL\n",
    "\n",
    "sns.barplot(x = 'Defect rates', y = 'Transportation modes', data =grouped_df1, estimator = \"mean\", palette='coolwarm' )\n",
    "plt.title = (\"Defect Rates by Transport modes\")\n",
    "plt.show()"
   ]
  },
  {
   "cell_type": "markdown",
   "id": "a8933c47",
   "metadata": {
    "papermill": {
     "duration": 0.015974,
     "end_time": "2024-01-04T03:27:22.083533",
     "exception": false,
     "start_time": "2024-01-04T03:27:22.067559",
     "status": "completed"
    },
    "tags": []
   },
   "source": [
    "# Shipping & Transportation:\n",
    "\n",
    "### Different shipping carriers are used (Carrier A, Carrier B, Carrier C) with varying shipping costs.\n",
    "### Transportation modes vary, including Road, Air, and Rail, with different routes and associated costs."
   ]
  },
  {
   "cell_type": "code",
   "execution_count": null,
   "id": "9b1e0506",
   "metadata": {
    "execution": {
     "iopub.execute_input": "2024-01-04T03:27:22.118384Z",
     "iopub.status.busy": "2024-01-04T03:27:22.117893Z",
     "iopub.status.idle": "2024-01-04T03:27:22.752058Z",
     "shell.execute_reply": "2024-01-04T03:27:22.750958Z"
    },
    "papermill": {
     "duration": 0.654944,
     "end_time": "2024-01-04T03:27:22.754832",
     "exception": false,
     "start_time": "2024-01-04T03:27:22.099888",
     "status": "completed"
    },
    "tags": []
   },
   "outputs": [
    {
     "data": {
      "image/png": "[encoded data removed]",
      "text/plain": [
       "<Figure size 1000x700 with 1 Axes>"
      ]
     },
     "metadata": {},
     "output_type": "display_data"
    }
   ],
   "source": [
    "\n",
    "plt.figure(figsize = (10,7))\n",
    "sns.barplot(x = 'Shipping carriers' , y = 'Shipping costs' , data =df, hue='Product type' )\n",
    "plt.show()"
   ]
  },
  {
   "cell_type": "code",
   "execution_count": null,
   "id": "a62a6947",
   "metadata": {
    "papermill": {
     "duration": 0.01528,
     "end_time": "2024-01-04T03:27:22.786152",
     "exception": false,
     "start_time": "2024-01-04T03:27:22.770872",
     "status": "completed"
    },
    "tags": []
   },
   "outputs": [],
   "source": []
  },
  {
   "cell_type": "code",
   "execution_count": null,
   "id": "1383106b",
   "metadata": {
    "papermill": {
     "duration": 0.015617,
     "end_time": "2024-01-04T03:27:22.880601",
     "exception": false,
     "start_time": "2024-01-04T03:27:22.864984",
     "status": "completed"
    },
    "tags": []
   },
   "outputs": [],
   "source": []
  }
 ],
 "metadata": {
  "kaggle": {
   "accelerator": "none",
   "dataSources": [
    {
     "datasetId": 3169086,
     "sourceId": 5490896,
     "sourceType": "datasetVersion"
    }
   ],
   "dockerImageVersionId": 30626,
   "isGpuEnabled": false,
   "isInternetEnabled": true,
   "language": "python",
   "sourceType": "notebook"
  },
  "kernelspec": {
   "display_name": "Python 3",
   "language": "python",
   "name": "python3"
  },
  "language_info": {
   "codemirror_mode": {
    "name": "ipython",
    "version": 3
   },
   "file_extension": ".py",
   "mimetype": "text/x-python",
   "name": "python",
   "nbconvert_exporter": "python",
   "pygments_lexer": "ipython3",
   "version": "3.11.9"
  },
  "papermill": {
   "default_parameters": {},
   "duration": 10.577905,
   "end_time": "2024-01-04T03:27:23.621687",
   "environment_variables": {},
   "exception": null,
   "input_path": "__notebook__.ipynb",
   "output_path": "__notebook__.ipynb",
   "parameters": {},
   "start_time": "2024-01-04T03:27:13.043782",
   "version": "2.4.0"
  }
 },
 "nbformat": 4,
 "nbformat_minor": 5
}
